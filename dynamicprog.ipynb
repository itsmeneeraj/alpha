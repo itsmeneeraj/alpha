{
  "nbformat": 4,
  "nbformat_minor": 0,
  "metadata": {
    "colab": {
      "provenance": [],
      "authorship_tag": "ABX9TyOmGph7RFrt7jhPltpjfzY0",
      "include_colab_link": true
    },
    "kernelspec": {
      "name": "python3",
      "display_name": "Python 3"
    },
    "language_info": {
      "name": "python"
    }
  },
  "cells": [
    {
      "cell_type": "markdown",
      "metadata": {
        "id": "view-in-github",
        "colab_type": "text"
      },
      "source": [
        "<a href=\"https://colab.research.google.com/github/itsmeneeraj/alpha/blob/main/dynamicprog.ipynb\" target=\"_parent\"><img src=\"https://colab.research.google.com/assets/colab-badge.svg\" alt=\"Open In Colab\"/></a>"
      ]
    },
    {
      "cell_type": "code",
      "source": [
        "import numpy as np\n",
        "import pandas as pd\n",
        "\n",
        "# Define parameters\n",
        "initial_wealth = 100000  # Initial wealth\n",
        "target_wealth = 200000  # Target wealth\n",
        "investment_horizon = 10  # Investment horizon in years\n",
        "time_steps = 10  # Number of time steps\n",
        "mu = 0.1  # Expected return\n",
        "sigma = 0.2  # Volatility\n",
        "\n",
        "# Discretize state space\n",
        "wealth_levels = np.linspace(0, target_wealth, num=21)  # Discretize wealth into 21 levels\n",
        "time_intervals = np.linspace(0, investment_horizon, num=time_steps+1)  # Discretize time\n",
        "\n",
        "# Define utility function (e.g., exponential utility)\n",
        "def utility_function(wealth):\n",
        "    return np.log(wealth + 1)  # Avoid log(0)\n",
        "\n",
        "# Initialize value function array\n",
        "value_function = np.zeros((len(wealth_levels), len(time_intervals)))\n",
        "\n",
        "# Set terminal condition\n",
        "value_function[:, -1] = utility_function(wealth_levels)\n",
        "\n",
        "# Define function to compute next wealth using GBM\n",
        "def next_wealth(wealth, allocation, mu, sigma, dt):\n",
        "    return wealth * np.exp((mu - 0.5 * sigma**2) * dt + sigma * np.sqrt(dt) * np.random.normal())\n",
        "\n",
        "# Backward induction\n",
        "for t in reversed(range(len(time_intervals) - 1)):\n",
        "    for w in range(len(wealth_levels)):\n",
        "        expected_values = []\n",
        "        for allocation in np.linspace(0, 1, num=11):  # Different allocations from 0 to 100%\n",
        "            next_w = next_wealth(wealth_levels[w], allocation, mu, sigma, time_intervals[1] - time_intervals[0])\n",
        "            next_w_index = np.searchsorted(wealth_levels, next_w, side='right') - 1\n",
        "            next_w_index = min(next_w_index, len(wealth_levels) - 1)\n",
        "            expected_value = value_function[next_w_index, t + 1]\n",
        "            expected_values.append(expected_value)\n",
        "        value_function[w, t] = np.max(expected_values)\n",
        "\n",
        "# Extract optimal policy\n",
        "optimal_policy = np.zeros((len(wealth_levels), len(time_intervals) - 1))\n",
        "for t in range(len(time_intervals) - 1):\n",
        "    for w in range(len(wealth_levels)):\n",
        "        allocation_values = []\n",
        "        for allocation in np.linspace(0, 1, num=11):\n",
        "            next_w = next_wealth(wealth_levels[w], allocation, mu, sigma, time_intervals[1] - time_intervals[0])\n",
        "            next_w_index = np.searchsorted(wealth_levels, next_w, side='right') - 1\n",
        "            next_w_index = min(next_w_index, len(wealth_levels) - 1)\n",
        "            expected_value = value_function[next_w_index, t + 1]\n",
        "            allocation_values.append(expected_value)\n",
        "        optimal_policy[w, t] = np.linspace(0, 1, num=11)[np.argmax(allocation_values)]\n",
        "\n",
        "# Output the optimal policy\n",
        "optimal_policy_df = pd.DataFrame(optimal_policy, columns=[f'Time {t}' for t in range(len(time_intervals) - 1)], index=wealth_levels)\n",
        "print(optimal_policy_df)\n",
        "\n",
        "# Save the optimal policy to an Excel file\n",
        "optimal_policy_df.to_excel(\"optimal_policy.xlsx\", sheet_name='Optimal Policy')\n",
        "\n",
        "print(\"Optimal policy saved to 'optimal_policy.xlsx'.\")\n"
      ],
      "metadata": {
        "colab": {
          "base_uri": "https://localhost:8080/"
        },
        "id": "YloyS-DvsEez",
        "outputId": "e0c56041-4171-4389-dbf0-6774f4db7b7f"
      },
      "execution_count": 1,
      "outputs": [
        {
          "output_type": "stream",
          "name": "stdout",
          "text": [
            "          Time 0  Time 1  Time 2  Time 3  Time 4  Time 5  Time 6  Time 7  \\\n",
            "0.0          0.0     0.0     0.0     0.0     0.0     0.0     0.0     0.0   \n",
            "10000.0      0.0     0.0     0.0     0.0     0.3     0.0     0.0     0.1   \n",
            "20000.0      0.1     0.1     0.6     0.0     0.6     0.0     0.0     0.7   \n",
            "30000.0      0.2     0.0     0.1     0.3     0.7     0.0     0.6     0.5   \n",
            "40000.0      0.0     0.0     0.0     0.1     0.7     0.0     0.1     0.0   \n",
            "50000.0      0.0     0.0     0.0     0.0     0.0     0.0     0.4     0.3   \n",
            "60000.0      0.0     0.0     0.0     0.1     0.0     0.0     0.2     0.2   \n",
            "70000.0      0.0     0.0     0.0     0.0     0.0     0.0     0.5     0.0   \n",
            "80000.0      0.0     0.0     0.0     0.0     0.0     0.0     0.0     0.2   \n",
            "90000.0      0.0     0.0     0.0     0.0     0.0     0.0     0.1     0.1   \n",
            "100000.0     0.0     0.0     0.0     0.0     0.0     0.0     0.0     0.0   \n",
            "110000.0     0.0     0.0     0.0     0.0     0.0     0.0     0.0     0.0   \n",
            "120000.0     0.0     0.0     0.0     0.0     0.0     0.0     0.0     0.0   \n",
            "130000.0     0.0     0.0     0.0     0.0     0.0     0.0     0.0     0.0   \n",
            "140000.0     0.0     0.0     0.0     0.0     0.0     0.0     0.0     0.0   \n",
            "150000.0     0.0     0.0     0.0     0.0     0.0     0.0     0.0     0.0   \n",
            "160000.0     0.0     0.0     0.0     0.0     0.0     0.0     0.0     0.0   \n",
            "170000.0     0.0     0.0     0.0     0.0     0.0     0.0     0.0     0.0   \n",
            "180000.0     0.0     0.0     0.0     0.0     0.0     0.0     0.0     0.0   \n",
            "190000.0     0.0     0.0     0.0     0.0     0.0     0.0     0.0     0.0   \n",
            "200000.0     0.0     0.0     0.0     0.0     0.0     0.0     0.0     0.0   \n",
            "\n",
            "          Time 8  Time 9  \n",
            "0.0          0.0     0.0  \n",
            "10000.0      0.1     0.1  \n",
            "20000.0      0.0     0.5  \n",
            "30000.0      0.2     0.4  \n",
            "40000.0      0.0     0.1  \n",
            "50000.0      0.1     0.8  \n",
            "60000.0      0.1     0.1  \n",
            "70000.0      1.0     0.2  \n",
            "80000.0      0.9     0.8  \n",
            "90000.0      0.9     0.7  \n",
            "100000.0     0.4     0.2  \n",
            "110000.0     0.1     0.1  \n",
            "120000.0     0.2     0.7  \n",
            "130000.0     0.0     0.6  \n",
            "140000.0     0.1     0.5  \n",
            "150000.0     0.0     0.1  \n",
            "160000.0     0.0     0.1  \n",
            "170000.0     0.0     0.1  \n",
            "180000.0     0.0     0.1  \n",
            "190000.0     0.0     0.0  \n",
            "200000.0     0.0     0.0  \n",
            "Optimal policy saved to 'optimal_policy.xlsx'.\n"
          ]
        }
      ]
    }
  ]
}